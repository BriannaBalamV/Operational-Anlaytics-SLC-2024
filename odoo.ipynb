{
 "cells": [
  {
   "cell_type": "code",
   "execution_count": 1,
   "metadata": {},
   "outputs": [],
   "source": [
    "import pandas as pd\n",
    "import smtplib\n",
    "from email.mime.text import MIMEText\n",
    "from email.mime.multipart import MIMEMultipart\n",
    "import configparser"
   ]
  },
  {
   "cell_type": "code",
   "execution_count": 2,
   "metadata": {},
   "outputs": [],
   "source": [
    "from DataBaseConnector.dbconnector import DataBaseConnector\n",
    "conn =  DataBaseConnector('ODOO')"
   ]
  },
  {
   "cell_type": "code",
   "execution_count": 3,
   "metadata": {},
   "outputs": [],
   "source": [
    "sql = '''  select name, email, phone, is_company,\n",
    "            email_normalized,\n",
    "            phone_sanitized,\n",
    "            create_date,\n",
    "            write_date\n",
    "            from res_partner '''"
   ]
  },
  {
   "cell_type": "code",
   "execution_count": 4,
   "metadata": {},
   "outputs": [
    {
     "name": "stderr",
     "output_type": "stream",
     "text": [
      "c:\\Users\\brian\\OneDrive\\Documentos\\Brianna\\St Lawrence College\\4 semester\\operational analytics\\DataBaseConnector\\dbconnector.py:143: UserWarning: pandas only supports SQLAlchemy connectable (engine/connection) or database string URI or sqlite3 DBAPI2 connection. Other DBAPI2 objects are not tested. Please consider using SQLAlchemy.\n",
      "  df_result = pd.read_sql_query(sql=sqlquery, con=conn, params=sqlparams)\n"
     ]
    }
   ],
   "source": [
    "customer_df = conn.get_dataframe_from_postgres(sqlquery=sql,sqlparams=None)"
   ]
  },
  {
   "cell_type": "code",
   "execution_count": 5,
   "metadata": {},
   "outputs": [
    {
     "data": {
      "text/html": [
       "<div>\n",
       "<style scoped>\n",
       "    .dataframe tbody tr th:only-of-type {\n",
       "        vertical-align: middle;\n",
       "    }\n",
       "\n",
       "    .dataframe tbody tr th {\n",
       "        vertical-align: top;\n",
       "    }\n",
       "\n",
       "    .dataframe thead th {\n",
       "        text-align: right;\n",
       "    }\n",
       "</style>\n",
       "<table border=\"1\" class=\"dataframe\">\n",
       "  <thead>\n",
       "    <tr style=\"text-align: right;\">\n",
       "      <th></th>\n",
       "      <th>name</th>\n",
       "      <th>email</th>\n",
       "      <th>phone</th>\n",
       "      <th>is_company</th>\n",
       "      <th>email_normalized</th>\n",
       "      <th>phone_sanitized</th>\n",
       "      <th>create_date</th>\n",
       "      <th>write_date</th>\n",
       "    </tr>\n",
       "  </thead>\n",
       "  <tbody>\n",
       "    <tr>\n",
       "      <th>0</th>\n",
       "      <td>Fabian</td>\n",
       "      <td>f.baez.calderon@gmail.com</td>\n",
       "      <td>705 9786543</td>\n",
       "      <td>False</td>\n",
       "      <td>f.baez.calderon@gmail.com</td>\n",
       "      <td>705 9786543</td>\n",
       "      <td>NaT</td>\n",
       "      <td>NaT</td>\n",
       "    </tr>\n",
       "    <tr>\n",
       "      <th>1</th>\n",
       "      <td>Default User Template</td>\n",
       "      <td>None</td>\n",
       "      <td>None</td>\n",
       "      <td>False</td>\n",
       "      <td>None</td>\n",
       "      <td>None</td>\n",
       "      <td>2024-10-25 03:16:03.835045</td>\n",
       "      <td>2024-10-25 03:28:50.246883</td>\n",
       "    </tr>\n",
       "    <tr>\n",
       "      <th>2</th>\n",
       "      <td>Israel</td>\n",
       "      <td>Israel.Harabedian@visitmail.com</td>\n",
       "      <td>(306)975-4672</td>\n",
       "      <td>True</td>\n",
       "      <td></td>\n",
       "      <td>(306)975-4672</td>\n",
       "      <td>NaT</td>\n",
       "      <td>NaT</td>\n",
       "    </tr>\n",
       "    <tr>\n",
       "      <th>3</th>\n",
       "      <td>Marcello</td>\n",
       "      <td>Marcello.Frickel@x-mail.net</td>\n",
       "      <td>(474)975-5122</td>\n",
       "      <td>True</td>\n",
       "      <td>Marcello.Frickel@x-mail.net</td>\n",
       "      <td>(474)975-5122</td>\n",
       "      <td>NaT</td>\n",
       "      <td>NaT</td>\n",
       "    </tr>\n",
       "    <tr>\n",
       "      <th>4</th>\n",
       "      <td>Janos</td>\n",
       "      <td>Janos.Cabibbo@merda.flu.cc</td>\n",
       "      <td>(879)973-4411</td>\n",
       "      <td>True</td>\n",
       "      <td></td>\n",
       "      <td>(879)973-4411</td>\n",
       "      <td>NaT</td>\n",
       "      <td>NaT</td>\n",
       "    </tr>\n",
       "  </tbody>\n",
       "</table>\n",
       "</div>"
      ],
      "text/plain": [
       "                    name                            email          phone  \\\n",
       "0                 Fabian        f.baez.calderon@gmail.com    705 9786543   \n",
       "1  Default User Template                             None           None   \n",
       "2                 Israel  Israel.Harabedian@visitmail.com  (306)975-4672   \n",
       "3               Marcello      Marcello.Frickel@x-mail.net  (474)975-5122   \n",
       "4                  Janos       Janos.Cabibbo@merda.flu.cc  (879)973-4411   \n",
       "\n",
       "   is_company             email_normalized phone_sanitized  \\\n",
       "0       False    f.baez.calderon@gmail.com     705 9786543   \n",
       "1       False                         None            None   \n",
       "2        True                                (306)975-4672   \n",
       "3        True  Marcello.Frickel@x-mail.net   (474)975-5122   \n",
       "4        True                                (879)973-4411   \n",
       "\n",
       "                 create_date                 write_date  \n",
       "0                        NaT                        NaT  \n",
       "1 2024-10-25 03:16:03.835045 2024-10-25 03:28:50.246883  \n",
       "2                        NaT                        NaT  \n",
       "3                        NaT                        NaT  \n",
       "4                        NaT                        NaT  "
      ]
     },
     "execution_count": 5,
     "metadata": {},
     "output_type": "execute_result"
    }
   ],
   "source": [
    "customer_df.head()"
   ]
  },
  {
   "cell_type": "code",
   "execution_count": 6,
   "metadata": {},
   "outputs": [
    {
     "data": {
      "text/plain": [
       "name                 0\n",
       "email                3\n",
       "phone                4\n",
       "is_company           0\n",
       "email_normalized     3\n",
       "phone_sanitized      4\n",
       "create_date         50\n",
       "write_date          50\n",
       "dtype: int64"
      ]
     },
     "execution_count": 6,
     "metadata": {},
     "output_type": "execute_result"
    }
   ],
   "source": [
    "customer_df.isnull().sum()"
   ]
  },
  {
   "cell_type": "code",
   "execution_count": 7,
   "metadata": {},
   "outputs": [
    {
     "data": {
      "text/plain": [
       "(568, 8)"
      ]
     },
     "execution_count": 7,
     "metadata": {},
     "output_type": "execute_result"
    }
   ],
   "source": [
    "customer_df.shape"
   ]
  },
  {
   "cell_type": "code",
   "execution_count": 8,
   "metadata": {},
   "outputs": [
    {
     "data": {
      "text/html": [
       "<div>\n",
       "<style scoped>\n",
       "    .dataframe tbody tr th:only-of-type {\n",
       "        vertical-align: middle;\n",
       "    }\n",
       "\n",
       "    .dataframe tbody tr th {\n",
       "        vertical-align: top;\n",
       "    }\n",
       "\n",
       "    .dataframe thead th {\n",
       "        text-align: right;\n",
       "    }\n",
       "</style>\n",
       "<table border=\"1\" class=\"dataframe\">\n",
       "  <thead>\n",
       "    <tr style=\"text-align: right;\">\n",
       "      <th></th>\n",
       "      <th>name</th>\n",
       "      <th>email</th>\n",
       "      <th>phone</th>\n",
       "      <th>is_company</th>\n",
       "      <th>email_normalized</th>\n",
       "      <th>phone_sanitized</th>\n",
       "      <th>create_date</th>\n",
       "      <th>write_date</th>\n",
       "    </tr>\n",
       "  </thead>\n",
       "  <tbody>\n",
       "    <tr>\n",
       "      <th>8</th>\n",
       "      <td>Kostas</td>\n",
       "      <td></td>\n",
       "      <td></td>\n",
       "      <td>False</td>\n",
       "      <td></td>\n",
       "      <td>(450)970-5851</td>\n",
       "      <td>2024-10-30 00:04:08.370545</td>\n",
       "      <td>2024-10-30 00:04:08.370545</td>\n",
       "    </tr>\n",
       "    <tr>\n",
       "      <th>10</th>\n",
       "      <td>Rodd</td>\n",
       "      <td></td>\n",
       "      <td>(368)975-5054</td>\n",
       "      <td>False</td>\n",
       "      <td>Rodd.Echter@mail2hungary.com</td>\n",
       "      <td>(368)975-5054</td>\n",
       "      <td>2024-10-30 00:04:13.302426</td>\n",
       "      <td>2024-10-30 00:04:13.302426</td>\n",
       "    </tr>\n",
       "    <tr>\n",
       "      <th>11</th>\n",
       "      <td>Wilhelm</td>\n",
       "      <td></td>\n",
       "      <td>(468)970-6742</td>\n",
       "      <td>False</td>\n",
       "      <td></td>\n",
       "      <td>(468)970-6742</td>\n",
       "      <td>2024-10-30 00:04:15.143516</td>\n",
       "      <td>2024-10-30 00:04:15.143516</td>\n",
       "    </tr>\n",
       "    <tr>\n",
       "      <th>15</th>\n",
       "      <td>Albert</td>\n",
       "      <td></td>\n",
       "      <td>(647)971-7717</td>\n",
       "      <td>False</td>\n",
       "      <td>Albert.Grammes@1zhuan.com</td>\n",
       "      <td>(647)971-7717</td>\n",
       "      <td>2024-10-30 00:13:03.357649</td>\n",
       "      <td>2024-10-30 00:13:03.357649</td>\n",
       "    </tr>\n",
       "    <tr>\n",
       "      <th>17</th>\n",
       "      <td>Waverly</td>\n",
       "      <td></td>\n",
       "      <td>(584)975-4744</td>\n",
       "      <td>False</td>\n",
       "      <td>Waverly.Mcgeehan@i12.com</td>\n",
       "      <td>(584)975-4744</td>\n",
       "      <td>2024-10-30 00:50:46.457810</td>\n",
       "      <td>2024-10-30 00:50:46.457813</td>\n",
       "    </tr>\n",
       "    <tr>\n",
       "      <th>...</th>\n",
       "      <td>...</td>\n",
       "      <td>...</td>\n",
       "      <td>...</td>\n",
       "      <td>...</td>\n",
       "      <td>...</td>\n",
       "      <td>...</td>\n",
       "      <td>...</td>\n",
       "      <td>...</td>\n",
       "    </tr>\n",
       "    <tr>\n",
       "      <th>552</th>\n",
       "      <td>Shep Lickfelt</td>\n",
       "      <td></td>\n",
       "      <td></td>\n",
       "      <td>False</td>\n",
       "      <td>Shep.Lickfelt@uol.com.br</td>\n",
       "      <td>(368)975-5562</td>\n",
       "      <td>2024-10-31 00:16:08.958742</td>\n",
       "      <td>2024-10-31 00:16:08.958749</td>\n",
       "    </tr>\n",
       "    <tr>\n",
       "      <th>553</th>\n",
       "      <td>Wain Braughton</td>\n",
       "      <td></td>\n",
       "      <td></td>\n",
       "      <td>False</td>\n",
       "      <td>Wain.Braughton@mail2marries.com</td>\n",
       "      <td>(709)979-5417</td>\n",
       "      <td>2024-10-31 00:16:08.987732</td>\n",
       "      <td>2024-10-31 00:16:08.987736</td>\n",
       "    </tr>\n",
       "    <tr>\n",
       "      <th>554</th>\n",
       "      <td>Lindsay Bery</td>\n",
       "      <td></td>\n",
       "      <td></td>\n",
       "      <td>False</td>\n",
       "      <td>Lindsay.Bery@rcn.com</td>\n",
       "      <td>(584)971-6262</td>\n",
       "      <td>2024-10-31 00:16:09.016331</td>\n",
       "      <td>2024-10-31 00:16:09.016335</td>\n",
       "    </tr>\n",
       "    <tr>\n",
       "      <th>559</th>\n",
       "      <td>Temple Noury</td>\n",
       "      <td></td>\n",
       "      <td>(587)975-7864</td>\n",
       "      <td>False</td>\n",
       "      <td></td>\n",
       "      <td>(587)975-7864</td>\n",
       "      <td>2024-10-31 00:17:09.790585</td>\n",
       "      <td>2024-10-31 00:17:09.790591</td>\n",
       "    </tr>\n",
       "    <tr>\n",
       "      <th>567</th>\n",
       "      <td>Arvy Moseley</td>\n",
       "      <td></td>\n",
       "      <td>(579)977-5699</td>\n",
       "      <td>False</td>\n",
       "      <td>Arvy.Moseley@cyberbabies.com</td>\n",
       "      <td>(579)977-5699</td>\n",
       "      <td>2024-10-31 00:18:10.411835</td>\n",
       "      <td>2024-10-31 00:18:10.411839</td>\n",
       "    </tr>\n",
       "  </tbody>\n",
       "</table>\n",
       "<p>169 rows × 8 columns</p>\n",
       "</div>"
      ],
      "text/plain": [
       "               name email          phone  is_company  \\\n",
       "8            Kostas                            False   \n",
       "10             Rodd        (368)975-5054       False   \n",
       "11          Wilhelm        (468)970-6742       False   \n",
       "15           Albert        (647)971-7717       False   \n",
       "17          Waverly        (584)975-4744       False   \n",
       "..              ...   ...            ...         ...   \n",
       "552   Shep Lickfelt                            False   \n",
       "553  Wain Braughton                            False   \n",
       "554    Lindsay Bery                            False   \n",
       "559    Temple Noury        (587)975-7864       False   \n",
       "567    Arvy Moseley        (579)977-5699       False   \n",
       "\n",
       "                    email_normalized phone_sanitized  \\\n",
       "8                                      (450)970-5851   \n",
       "10      Rodd.Echter@mail2hungary.com   (368)975-5054   \n",
       "11                                     (468)970-6742   \n",
       "15         Albert.Grammes@1zhuan.com   (647)971-7717   \n",
       "17          Waverly.Mcgeehan@i12.com   (584)975-4744   \n",
       "..                               ...             ...   \n",
       "552         Shep.Lickfelt@uol.com.br   (368)975-5562   \n",
       "553  Wain.Braughton@mail2marries.com   (709)979-5417   \n",
       "554             Lindsay.Bery@rcn.com   (584)971-6262   \n",
       "559                                    (587)975-7864   \n",
       "567     Arvy.Moseley@cyberbabies.com   (579)977-5699   \n",
       "\n",
       "                   create_date                 write_date  \n",
       "8   2024-10-30 00:04:08.370545 2024-10-30 00:04:08.370545  \n",
       "10  2024-10-30 00:04:13.302426 2024-10-30 00:04:13.302426  \n",
       "11  2024-10-30 00:04:15.143516 2024-10-30 00:04:15.143516  \n",
       "15  2024-10-30 00:13:03.357649 2024-10-30 00:13:03.357649  \n",
       "17  2024-10-30 00:50:46.457810 2024-10-30 00:50:46.457813  \n",
       "..                         ...                        ...  \n",
       "552 2024-10-31 00:16:08.958742 2024-10-31 00:16:08.958749  \n",
       "553 2024-10-31 00:16:08.987732 2024-10-31 00:16:08.987736  \n",
       "554 2024-10-31 00:16:09.016331 2024-10-31 00:16:09.016335  \n",
       "559 2024-10-31 00:17:09.790585 2024-10-31 00:17:09.790591  \n",
       "567 2024-10-31 00:18:10.411835 2024-10-31 00:18:10.411839  \n",
       "\n",
       "[169 rows x 8 columns]"
      ]
     },
     "execution_count": 8,
     "metadata": {},
     "output_type": "execute_result"
    }
   ],
   "source": [
    "customer_df.loc[customer_df['email'] == '']"
   ]
  },
  {
   "cell_type": "code",
   "execution_count": 9,
   "metadata": {},
   "outputs": [
    {
     "data": {
      "text/html": [
       "<div>\n",
       "<style scoped>\n",
       "    .dataframe tbody tr th:only-of-type {\n",
       "        vertical-align: middle;\n",
       "    }\n",
       "\n",
       "    .dataframe tbody tr th {\n",
       "        vertical-align: top;\n",
       "    }\n",
       "\n",
       "    .dataframe thead th {\n",
       "        text-align: right;\n",
       "    }\n",
       "</style>\n",
       "<table border=\"1\" class=\"dataframe\">\n",
       "  <thead>\n",
       "    <tr style=\"text-align: right;\">\n",
       "      <th></th>\n",
       "      <th>name</th>\n",
       "      <th>email</th>\n",
       "      <th>phone</th>\n",
       "      <th>is_company</th>\n",
       "      <th>email_normalized</th>\n",
       "      <th>phone_sanitized</th>\n",
       "      <th>create_date</th>\n",
       "      <th>write_date</th>\n",
       "    </tr>\n",
       "  </thead>\n",
       "  <tbody>\n",
       "  </tbody>\n",
       "</table>\n",
       "</div>"
      ],
      "text/plain": [
       "Empty DataFrame\n",
       "Columns: [name, email, phone, is_company, email_normalized, phone_sanitized, create_date, write_date]\n",
       "Index: []"
      ]
     },
     "execution_count": 9,
     "metadata": {},
     "output_type": "execute_result"
    }
   ],
   "source": [
    "customer_df[customer_df['email_normalized'].str.contains(' None',case =False,na=False)]"
   ]
  },
  {
   "cell_type": "code",
   "execution_count": 10,
   "metadata": {},
   "outputs": [
    {
     "data": {
      "text/plain": [
       "array(['f.baez.calderon@gmail.com', None, '',\n",
       "       'Marcello.Frickel@x-mail.net', 'Rodd.Echter@mail2hungary.com',\n",
       "       'Adolphus.Zogby@bettergolf.net', 'Albert.Grammes@1zhuan.com',\n",
       "       'Mohamed.Draves@telenet.be', 'Waverly.Mcgeehan@i12.com',\n",
       "       'Hallam.Fastic@mail2westend.com', 'addison.olson28@example.com',\n",
       "       'willie.burke80@example.com', 'Lonny.Macguire@alivance.com',\n",
       "       'Mayor.Haukaas@discoverymail.com', 'Leonardo.Tobola@netzidiot.de',\n",
       "       'Hervey.Grubb@socceraccess.com', 'Skipper.Lyde@inbox.net',\n",
       "       'Ritchie.Waples@zxcvbnm.com', 'Pablo.Spraberry@supereva.it',\n",
       "       'Walter.Vannuland@xents.com', 'Ricard.Zakowski@radicalz.com',\n",
       "       'Kris.Manship@the-student.net',\n",
       "       'Chevalier.Devonshire@sweetville.net',\n",
       "       'Ash.Timmermann@weibsvolk.de', 'Ephram.Denham@fadrasha.net',\n",
       "       'Umberto.Chaisty@mail2tommy.com', 'Isaac.Peplau@zubee.com',\n",
       "       'Tarrance.Tedder@netzoola.com', 'Chip.Washum@emailtemporar.ro',\n",
       "       'Micheil.Stuemke@marketweighton.com', 'info@agrolait.com',\n",
       "       'Sawyer.Weyand@mailexpire.com', 'lorraine.douglas35@example.com',\n",
       "       'tom.ruiz89@example.com', 'colleen.diaz83@example.com',\n",
       "       'info@deltapc.example.com', 'Myke.Briere@calcuttaads.com',\n",
       "       'Bealle.Pennino@schmusemail.de', 'Rochester.Henri@wh4f.org',\n",
       "       'Terence.Rall@xzapmail.com', 'Chane.Armijo@aport.ru',\n",
       "       'Lorne.Jaecks@newmail.com', 'Urbain.Wagon@temporaryinbox.com',\n",
       "       'theodore.gardner36@example.com', 'julie.richards84@example.com',\n",
       "       'travis.mendoza24@example.com', 'ron.gibson76@example.com',\n",
       "       'douglas.fletcher51@example.com', 'edwin.hansen58@example.com',\n",
       "       'jesse.brown74@example.com', 'Stuart.Regans@outlook.lv',\n",
       "       'Prent.Dwyer@germanymail.com', 'Shepard.Skoff@cek.pm',\n",
       "       'Boris.Huebner@emailoregon.com', 'Reg.Letson@mail2paris.com',\n",
       "       'Kip.Vasile@epage.ru', 'Fitzgerald.Byan@mailandftp.com',\n",
       "       'Baillie.Tucke@tfbnw.net', 'Meryl.Easterwood@rubyridge.com',\n",
       "       'Hunter.Canedo@ummah.org', 'Janos.Frenz@mail2sudan.com',\n",
       "       'Cory.Perlson@ghostmail.com', 'odoobot@example.com',\n",
       "       'chicago@yourcompany.com', 'operationalanalytics2@gmail.com',\n",
       "       'mark.brown23@example.com', 'jeff.lawson52@example.com',\n",
       "       'Simone.Aavang@mail2mexico.com', 'Clay.Smallen@teamdiscovery.com',\n",
       "       'Prentiss.Blackstock@awholelotofamechi.com',\n",
       "       'Arne.Nicols@fromnorthcarolina.com', 'Jake.Bonagurio@clerk.com',\n",
       "       'Luther.Rogalski@tropicalstorm.com', 'Tammy.Deuman@aol.de',\n",
       "       'Enrico.Kliewer@eresmas.com', 'Dewitt.Delea@dm.w3internet.co.uk',\n",
       "       'Rolph.Iyengar@mail2desert.com', 'Karim.Dumez@freesbee.fr',\n",
       "       'Iggy.Jameson@mintemail.com', 'Christy.Gardunio@hotmail.co.jp',\n",
       "       'Smitty.Vantrump@icrazy.com', 'Nester.Telch@tankpolice.com',\n",
       "       'Rube.Roets@0815.ru', 'Seymour.Arenales@nakedgreens.com',\n",
       "       'Erick.Shae@wegas.ru', 'Mattie.Zlaten@fatflap.com',\n",
       "       'Siddhartha.Ellegood@freedom.usa.com',\n",
       "       'Craig.Carlo@mail2stewart.com', 'Hilton.Xang@tempe-mail.com',\n",
       "       'Holly.Kissel@housefancom', 'Ambrosi.Degrand@barlick.net',\n",
       "       'Ephrayim.Cutts@hot-mail.gq', 'Markos.Pehowic@mail2cook.com',\n",
       "       'Fraser.Pruse@yourdomain.com', 'Brooks.Shelite@mail2isaac.com',\n",
       "       'Barrett.Avona@thexyz.net', 'Francisco.Dewan@friendlymail.co.uk',\n",
       "       'Leonardo.Gabino@nenter.com', 'Arnold.Mccrobie@mail2beth.com',\n",
       "       'Hillery.Chuta@heerschap.com', 'Valentine.Dibben@mail2earl.com',\n",
       "       'Darrin.Kennelley@mail2memphis.com',\n",
       "       'Charlie.Tuorto@mail2poet.com', 'Raymond.Tank@cumbriamail.com',\n",
       "       'Jordan.Sabine@mail2worship.com', 'Burton.Rebuldela@africa-11.com',\n",
       "       'Torry.Burleson@spainmail.com', 'Ed.Heaivilin@pekklemail.com',\n",
       "       'Ichabod.Gabbin@mail2edwin.com', 'Chalmers.Hulsey@mail2betty.com',\n",
       "       'Bartie.Mazikowski@resumemail.com', 'Riley.Lemert@20mail.in',\n",
       "       'Hallam.Fyke@syriamail.com', 'Sandy.Monje@mail2leonard.com',\n",
       "       'Quintus.Griffiths@hypernautica.com',\n",
       "       'Sheffy.Hingle@calcuttaads.com', 'Roice.Ricardo@mail2fireman.com',\n",
       "       'Charlie.Penley@mail2truck.com', 'Lefty.Dahlman@llangollen.com',\n",
       "       'Ellis.Thornborrow@labetteraverouge.at', 'Woody.Eury@yifan.net',\n",
       "       'Timothy.Winterstein@mail2psychiatrist.com',\n",
       "       'Frazier.Prokes@macfreak.com', 'Fredric.Speicher@k.ro',\n",
       "       'Ritchie.Ordahl@q.com', 'Ingemar.Champa@m-hmail.com',\n",
       "       'Cornelius.Walman@shockinmytown.cu.cc',\n",
       "       'Carlo.Broce@codec.roemail.ro', 'chester.reed79@example.com',\n",
       "       'Mattie.Dibello@hilarious.com', 'joel.willis63@example.com',\n",
       "       'john.b@tech.info', 'jackson.group82@example.com',\n",
       "       'lumber-inv92@example.com', 'gordon.owens47@example.com',\n",
       "       'oscar.morgan11@example.com', 'Todd.Hofmans@dutchmail.com',\n",
       "       'toni.rhodes11@example.com', 'Ravi.Fiala@pakistanmail.com',\n",
       "       'Swen.Hirezi@mail2aquarius.com', 'Hansel.Scigliano@vivianhsu.net',\n",
       "       'Jeremiah.Lorenc@no-spam.ws', 'Mikel.Perow@otakumail.com',\n",
       "       'dwayne.newman28@example.com', 'Vail.Haugen@dotmsg.com',\n",
       "       'Stanfield.Pappan@letterboxes.org', 'soham.palmer15@example.com',\n",
       "       'nicole.ford75@example.com', 'Rikki.Rhodus@townisp.com',\n",
       "       'sandra.neal80@example.com', 'Northrop.Siddoway@outlook.co.id',\n",
       "       'bhu.a100@ic.example.com', 'vauxoo@yourcompany.example.com',\n",
       "       'Andreas.Milovich@fmailbox.com', 'Hebert.Colao@acdcfan.com',\n",
       "       'Andri.Lyerly@akphantom.com', 'Dominique.Carstarphen@airforce.net',\n",
       "       'Fairfax.Rominger@mail2crystal.com', 'Hodge.Heirendt@i12.com',\n",
       "       'Dustin.Birdsell@teewars.org', 'Hashim.Cortinas@globalsite.com.br',\n",
       "       'Georges.Carbery@bigassweb.com',\n",
       "       'Arturo.Szekely@mail2minister.com',\n",
       "       'Lemuel.Buccellato@getonemail.net',\n",
       "       'Moses.Dubonnet@writeremail.com', 'Matt.Mcaskill@live.jp',\n",
       "       'Louie.Bailony@freesbee.fr', 'floyd.steward34@example.com',\n",
       "       'billy.fox45@example.com', 'kim.snyder96@example.com',\n",
       "       'edith.sanchez68@example.com', 'brandon.freeman55@example.com',\n",
       "       'Tammie.Blunk@jewishmail.com', 'Cris.Jennie@gishpuppy.com',\n",
       "       'Allan.Paripovich@email60.com', 'Sigmund.Beumer@fepg.net',\n",
       "       'Spenser.Grenz@mail2dustin.com',\n",
       "       'Erick.Mcgafferty@mail2wisconsin.com',\n",
       "       'Sergeant.Zou@therapist.net', 'Osmund.Nolie@mail2hip.com',\n",
       "       'Jermain.Seeman@live.com', 'Alston.Nuding@mailas.com',\n",
       "       'Ford.Skemp@shitaway.usa.cc', 'Dionis.Cruser@mail2vince.com',\n",
       "       'Clarance.Ostrye@deepseafisherman.net',\n",
       "       'Esteban.Robin@slickriffs.co.uk', 'Alston.Casgrove@xms.nl',\n",
       "       'Tomas.Novara@yesey.net', 'Antonius.Mccaffree@snoopymail.com',\n",
       "       'Nikki.Vanderzee@trbvm.com', 'Neil.Cupe@coid.biz',\n",
       "       'Stirling.Eitzen@the-seasiders.com', 'Alden.Mavris@2mydns.com',\n",
       "       'Alessandro.Debenedictis@download-privat.de',\n",
       "       'Fonsie.Gabrenas@mail2iceland.com',\n",
       "       'Barri.Stansbury@jerusalemmail.com', 'Nickey.Daro@rogers.com',\n",
       "       'Jackie.Dumire@japan.com', 'Elmer.Kentner@z9mail.com',\n",
       "       'Adrian.Estepp@mail2liquid.com', 'Dunstan.Mogel@the-gremlin.com',\n",
       "       'Merell.Ingwell@wwdg.com', 'Kirby.Warnack@yourlover.net',\n",
       "       'Clemmie.Guiltner@jaydemail.com',\n",
       "       'Silvanus.Cazzell@portugalmail.pt', 'Barri.Alcock@outlook.co.nz',\n",
       "       'Shep.Lickfelt@uol.com.br', 'Wain.Braughton@mail2marries.com',\n",
       "       'Lindsay.Bery@rcn.com', 'Dionis.Kvamme@epage.ru',\n",
       "       'Lay.Batley@mail2trillionaire.com', 'Alaa.Kopke@123mail.org',\n",
       "       'Arvy.Moseley@cyberbabies.com'], dtype=object)"
      ]
     },
     "execution_count": 10,
     "metadata": {},
     "output_type": "execute_result"
    }
   ],
   "source": [
    "customer_df['email_normalized'].unique()"
   ]
  },
  {
   "cell_type": "code",
   "execution_count": 11,
   "metadata": {},
   "outputs": [],
   "source": [
    "cus_list=customer_df.loc[customer_df['email_normalized']=='']['name'].to_list()"
   ]
  },
  {
   "cell_type": "code",
   "execution_count": 12,
   "metadata": {},
   "outputs": [],
   "source": [
    "import smtplib\n",
    "from email.mime.text import MIMEText\n",
    "from email.mime.multipart import MIMEMultipart\n",
    "import configparser"
   ]
  },
  {
   "cell_type": "code",
   "execution_count": 13,
   "metadata": {},
   "outputs": [
    {
     "data": {
      "text/plain": [
       "['config.ini']"
      ]
     },
     "execution_count": 13,
     "metadata": {},
     "output_type": "execute_result"
    }
   ],
   "source": [
    "config = configparser.ConfigParser()\n",
    "config.read('config.ini')"
   ]
  },
  {
   "cell_type": "code",
   "execution_count": 14,
   "metadata": {},
   "outputs": [
    {
     "data": {
      "text/plain": [
       "'587'"
      ]
     },
     "execution_count": 14,
     "metadata": {},
     "output_type": "execute_result"
    }
   ],
   "source": [
    "config['GMAIL']['port']"
   ]
  },
  {
   "cell_type": "code",
   "execution_count": 15,
   "metadata": {},
   "outputs": [],
   "source": [
    "body = ''' Dear Fabian, I'm Brianna Balam, please check the information below: '''"
   ]
  },
  {
   "cell_type": "code",
   "execution_count": 16,
   "metadata": {},
   "outputs": [
    {
     "data": {
      "text/plain": [
       "'Israel\\n -Janos\\n -Barn\\n -Thatcher\\n -Hoyt\\n -Kostas\\n -Edgardo\\n -Wilhelm\\n -Ram\\n -Geraldo\\n -Wood\\n -Bartholomew Clewes\\n -Josiah Fiorita\\n -Maxfield Fobes\\n -Ronny Dunlavy\\n -Maison Cavicchi\\n -Pieter Checketts\\n -Hamlet Usina\\n -James Fulcher\\n -Trevar Rasinski\\n -Danny Betton\\n -Benito Frack\\n -Tabb Schuit\\n -Aditya Madren\\n -Kent Scherbel\\n -Derrek Nadeau\\n -Godfree Ruh\\n -Timothy Auler\\n -Ransom Dozier\\n -Bradley Zulkowski\\n -Ritch Korpal\\n -Donald Vanderbeck\\n -Trev\\n -Bogart\\n -Vaclav\\n -Rabi\\n -Britt\\n -Antonio\\n -Godard\\n -Friedrich\\n -Mitchell\\n -Shepard\\n -Judah\\n -Morgan\\n -Terence Klenk\\n -Trent Robey\\n -Barney Nivala\\n -Lawrence Ercolani\\n -Standford Mazikowski\\n -Baily Conti\\n -Theodore Mccord\\n -Everett Portales\\n -Aleck Stalworth\\n -Job Simar\\n -Eddie Debrot\\n -Urbano Ullom\\n -Meyer Canori\\n -Marlon Winkenwerder\\n -Murdoch Lepretre\\n -Gay Lutrick\\n -Fons Adner\\n -Marcus Gibeault\\n -Jed Krishnamurthy\\n -Gabriele Haddix\\n -Lon\\n -Roni\\n -Clemens\\n -Simmonds\\n -Burl\\n -Mitchel\\n -Tomlin\\n -Piotr\\n -Fritz\\n -Jarrett\\n -Wiley\\n -Yancy\\n -Garth Mcnespey\\n -Demetrius Hamberger\\n -Jephthah Lofink\\n -Giffy Sibrel\\n -Sky Rapin\\n -Pietro Siena\\n -Joshuah Roebke\\n -Glynn Arizzi\\n -Teador Barree\\n -Trever Schoenmaker\\n -Shayne Grassano\\n -Harmon Kiesser\\n -Lennie Guisti\\n -Durante Kleinfelder\\n -Arne Carlson\\n -Lex Blakesley\\n -Vasilis Philbert\\n -Nealson Perret\\n -Ted Scheidecker\\n -Louie Compston\\n -Clint\\n -Englebert\\n -Tiebold\\n -Wilmar\\n -Nelson\\n -Jed\\n -Jonathan\\n -Zebedee\\n -Dewitt\\n -Vinny\\n -Yule\\n -Brooke\\n -Nathanil\\n -Eric\\n -Gretchen Cruz\\n -Troy Hanway\\n -Godard Eggert\\n -Emerson Menches\\n -Lawton Neher\\n -Woodman Mineconzo\\n -Ward Plowden\\n -Regen Badder\\n -Obie Maldanado\\n -Felice Salmans\\n -Fowler Vincente\\n -Quincy Roher\\n -Parker Hodgins\\n -Regen Paluk\\n -David Babu\\n -Fremont Linson\\n -Lucian Bjork\\n -Shorty Kommer\\n -Staffard\\n -Axel\\n -Ernesto\\n -Guthry\\n -Frederico\\n -Wylie\\n -Abel\\n -Barri\\n -Ethan\\n -Floyd\\n -Thibaud\\n -Ingram Penha\\n -Wilburn Heptinstall\\n -Pip Hackey\\n -Garcia Bohorquez\\n -Shalom Horsman\\n -Dietrich Kunz\\n -Richy No\\n -Alley Fugate\\n -Levon Cleath\\n -Moise Burnette\\n -Vinnie Muinos\\n -Peyton Browe\\n -Ehud Lovallo\\n -Yigal Onorati\\n -Jeth Farrugia\\n -Sterling Stoyer\\n -Darian Merideth\\n -Philip Fiato\\n -Hanan Calwell\\n -Roni Garley\\n -Paco Bormet\\n -Ephram Camino\\n -Neal Daisey\\n -Jean-Marc Denhartog\\n -Dorian Millerd\\n -Paco Secrease\\n -Ephraim Szczesniak\\n -Dell Hassing\\n -Walden Franken\\n -Marilu\\n -Shelby\\n -Ransell\\n -Theo\\n -Guillaume\\n -Erik\\n -Samuel\\n -Martainn\\n -Heinrich\\n -Leon\\n -Dorian\\n -Rafe\\n -Reggis\\n -Eustace Redfield\\n -Wendell Laskosky\\n -Finn Urbach\\n -Rawley Palowoda\\n -Rickard Medalion\\n -Collin Pinsoneault\\n -Chester Zack\\n -Heywood Gabbard\\n -Silvio Prom\\n -Stanislaw Okula\\n -Sloane Liddick\\n -Weber Struzik\\n -Tudor Scialpi\\n -Higgins Triplet\\n -Tadd Cucchiaro\\n -Klaus Nimick\\n -Terrell Boerboom\\n -Gunner Brink\\n -Adrick Schuff\\n -Reginauld Lodwick\\n -Major Bennington\\n -Ellsworth Pellam\\n -Scotti\\n -Temple\\n -Alic\\n -Dimitrios\\n -Eliot\\n -Witty\\n -Merrel\\n -Diego\\n -Truman\\n -Dillon\\n -Siddhartha Lillpop\\n -Pyotr Kehs\\n -Karel Lebrun\\n -Porter Shinaberry\\n -Norman Kuzniar\\n -Vassily Eversmeyer\\n -Chanderjit Silevinac\\n -Eustace Chura\\n -Geoffrey Styons\\n -Kareem Gimpel\\n -Travers Fryar\\n -Reilly Garbarini\\n -Bill Anes\\n -Skippy Sitto\\n -Cleland Adib\\n -Derron Talamante\\n -Edmond Bernadette\\n -Giffer\\n -Tedmund\\n -Munmro\\n -Osbourn\\n -Leif\\n -Mitchell\\n -Fons\\n -Vassily\\n -Brent\\n -Laurence\\n -Ezekiel\\n -Walther\\n -Daren Hotelling\\n -Anatole Ohare\\n -Chip Zabarkes\\n -Prince Spragins\\n -Lennie Meissner\\n -Cornellis Delguercio\\n -Teodorico Dibiase\\n -Muffin Cane\\n -Dwain Tener\\n -Thatch Scherzer\\n -Abdul Stadther\\n -Udall Romani\\n -Caesar Peshek\\n -Ricky Pekara\\n -Bartholomeo Wildridge\\n -Flinn Peals\\n -Oberon Desanto\\n -Morse Chandrasekara\\n -Ingamar Rizas\\n -Julian Roeth\\n -Stanton\\n -Lesley\\n -Goose\\n -Jermain\\n -Jory\\n -Orin\\n -Gustavo\\n -Craig\\n -Noe\\n -Olag\\n -Clinten\\n -Brewster\\n -Joseph\\n -Seth\\n -Jabez Venturi\\n -Ware Labarbera\\n -Alic Smigaj\\n -Tull Rosenblatt\\n -Pierce Pagano\\n -Flipper Holscher\\n -Nickie Getler\\n -Clarence Trammer\\n -Dirk Chafin\\n -Johan Engelberg\\n -Ender Vasko\\n -Clifton Therrell\\n -Guy Pulling\\n -Rusty Espeland\\n -Ez Bischoff\\n -Joshua Devazier\\n -Burnaby Nahari\\n -Tulley Daleus\\n -Lee Gonzolez\\n -Josiah Brunderman\\n -Tiler Mohinani\\n -Tuckie Symanski\\n -Derrin Darbro\\n -Heinrich Kandt\\n -Derick Zentner\\n -Antonio Schember\\n -Willmott Cartland\\n -Ravil Hurtt\\n -Elihu Belli\\n -Baily Monday\\n -Theodoric Ginyard\\n -Tye Janowiec\\n -Reese Nabity\\n -Northrup Healey\\n -Vince Strakbein\\n -Marcellus Fredieu\\n -Logan Leibenstein\\n -Salim Yontz\\n -Wyatan Milich\\n -Josh Foddrill\\n -Reed Fresh\\n -Hillel Schowalter\\n -Toby Rosenheim\\n -Emmett Hatton\\n -Giovanni Treffert\\n -Alfonse Uribe\\n -Shaughn Plath\\n -Oliver Laneaux\\n -Vasily Hagwell\\n -Dean Ellington\\n -Teador Carp\\n -Tammy Chalet\\n -Maynard Crosley\\n -Cammy Almiron\\n -Sergeant Laperriere\\n -Jan Harrold\\n -Mel Bew\\n -Chas Purfeerst\\n -Bartel Lapinta\\n -Renaud Threet\\n -Udale Dismang\\n -Hunter Demmert\\n -Marlo Furna\\n -Pail Lavergne\\n -Putnam Steger\\n -Upton Mundorf\\n -Davidde Parden\\n -Wright Nonu\\n -Bryn Calleros\\n -Patrik Keener\\n -Temple Noury\\n -Renado Contrenas\\n -Fredrick Chantler\\n -Dwight Kalenkoski\\n -Waine Beliles\\n -Barbabas Corder\\n -Tiebout Rixie'"
      ]
     },
     "execution_count": 16,
     "metadata": {},
     "output_type": "execute_result"
    }
   ],
   "source": [
    "cus_text = '\\n -'.join(cus_list)\n",
    "cus_text"
   ]
  },
  {
   "cell_type": "code",
   "execution_count": 17,
   "metadata": {},
   "outputs": [
    {
     "data": {
      "text/plain": [
       "\" Dear Fabian, I'm Brianna Balam, please check the information below: Israel\\n -Janos\\n -Barn\\n -Thatcher\\n -Hoyt\\n -Kostas\\n -Edgardo\\n -Wilhelm\\n -Ram\\n -Geraldo\\n -Wood\\n -Bartholomew Clewes\\n -Josiah Fiorita\\n -Maxfield Fobes\\n -Ronny Dunlavy\\n -Maison Cavicchi\\n -Pieter Checketts\\n -Hamlet Usina\\n -James Fulcher\\n -Trevar Rasinski\\n -Danny Betton\\n -Benito Frack\\n -Tabb Schuit\\n -Aditya Madren\\n -Kent Scherbel\\n -Derrek Nadeau\\n -Godfree Ruh\\n -Timothy Auler\\n -Ransom Dozier\\n -Bradley Zulkowski\\n -Ritch Korpal\\n -Donald Vanderbeck\\n -Trev\\n -Bogart\\n -Vaclav\\n -Rabi\\n -Britt\\n -Antonio\\n -Godard\\n -Friedrich\\n -Mitchell\\n -Shepard\\n -Judah\\n -Morgan\\n -Terence Klenk\\n -Trent Robey\\n -Barney Nivala\\n -Lawrence Ercolani\\n -Standford Mazikowski\\n -Baily Conti\\n -Theodore Mccord\\n -Everett Portales\\n -Aleck Stalworth\\n -Job Simar\\n -Eddie Debrot\\n -Urbano Ullom\\n -Meyer Canori\\n -Marlon Winkenwerder\\n -Murdoch Lepretre\\n -Gay Lutrick\\n -Fons Adner\\n -Marcus Gibeault\\n -Jed Krishnamurthy\\n -Gabriele Haddix\\n -Lon\\n -Roni\\n -Clemens\\n -Simmonds\\n -Burl\\n -Mitchel\\n -Tomlin\\n -Piotr\\n -Fritz\\n -Jarrett\\n -Wiley\\n -Yancy\\n -Garth Mcnespey\\n -Demetrius Hamberger\\n -Jephthah Lofink\\n -Giffy Sibrel\\n -Sky Rapin\\n -Pietro Siena\\n -Joshuah Roebke\\n -Glynn Arizzi\\n -Teador Barree\\n -Trever Schoenmaker\\n -Shayne Grassano\\n -Harmon Kiesser\\n -Lennie Guisti\\n -Durante Kleinfelder\\n -Arne Carlson\\n -Lex Blakesley\\n -Vasilis Philbert\\n -Nealson Perret\\n -Ted Scheidecker\\n -Louie Compston\\n -Clint\\n -Englebert\\n -Tiebold\\n -Wilmar\\n -Nelson\\n -Jed\\n -Jonathan\\n -Zebedee\\n -Dewitt\\n -Vinny\\n -Yule\\n -Brooke\\n -Nathanil\\n -Eric\\n -Gretchen Cruz\\n -Troy Hanway\\n -Godard Eggert\\n -Emerson Menches\\n -Lawton Neher\\n -Woodman Mineconzo\\n -Ward Plowden\\n -Regen Badder\\n -Obie Maldanado\\n -Felice Salmans\\n -Fowler Vincente\\n -Quincy Roher\\n -Parker Hodgins\\n -Regen Paluk\\n -David Babu\\n -Fremont Linson\\n -Lucian Bjork\\n -Shorty Kommer\\n -Staffard\\n -Axel\\n -Ernesto\\n -Guthry\\n -Frederico\\n -Wylie\\n -Abel\\n -Barri\\n -Ethan\\n -Floyd\\n -Thibaud\\n -Ingram Penha\\n -Wilburn Heptinstall\\n -Pip Hackey\\n -Garcia Bohorquez\\n -Shalom Horsman\\n -Dietrich Kunz\\n -Richy No\\n -Alley Fugate\\n -Levon Cleath\\n -Moise Burnette\\n -Vinnie Muinos\\n -Peyton Browe\\n -Ehud Lovallo\\n -Yigal Onorati\\n -Jeth Farrugia\\n -Sterling Stoyer\\n -Darian Merideth\\n -Philip Fiato\\n -Hanan Calwell\\n -Roni Garley\\n -Paco Bormet\\n -Ephram Camino\\n -Neal Daisey\\n -Jean-Marc Denhartog\\n -Dorian Millerd\\n -Paco Secrease\\n -Ephraim Szczesniak\\n -Dell Hassing\\n -Walden Franken\\n -Marilu\\n -Shelby\\n -Ransell\\n -Theo\\n -Guillaume\\n -Erik\\n -Samuel\\n -Martainn\\n -Heinrich\\n -Leon\\n -Dorian\\n -Rafe\\n -Reggis\\n -Eustace Redfield\\n -Wendell Laskosky\\n -Finn Urbach\\n -Rawley Palowoda\\n -Rickard Medalion\\n -Collin Pinsoneault\\n -Chester Zack\\n -Heywood Gabbard\\n -Silvio Prom\\n -Stanislaw Okula\\n -Sloane Liddick\\n -Weber Struzik\\n -Tudor Scialpi\\n -Higgins Triplet\\n -Tadd Cucchiaro\\n -Klaus Nimick\\n -Terrell Boerboom\\n -Gunner Brink\\n -Adrick Schuff\\n -Reginauld Lodwick\\n -Major Bennington\\n -Ellsworth Pellam\\n -Scotti\\n -Temple\\n -Alic\\n -Dimitrios\\n -Eliot\\n -Witty\\n -Merrel\\n -Diego\\n -Truman\\n -Dillon\\n -Siddhartha Lillpop\\n -Pyotr Kehs\\n -Karel Lebrun\\n -Porter Shinaberry\\n -Norman Kuzniar\\n -Vassily Eversmeyer\\n -Chanderjit Silevinac\\n -Eustace Chura\\n -Geoffrey Styons\\n -Kareem Gimpel\\n -Travers Fryar\\n -Reilly Garbarini\\n -Bill Anes\\n -Skippy Sitto\\n -Cleland Adib\\n -Derron Talamante\\n -Edmond Bernadette\\n -Giffer\\n -Tedmund\\n -Munmro\\n -Osbourn\\n -Leif\\n -Mitchell\\n -Fons\\n -Vassily\\n -Brent\\n -Laurence\\n -Ezekiel\\n -Walther\\n -Daren Hotelling\\n -Anatole Ohare\\n -Chip Zabarkes\\n -Prince Spragins\\n -Lennie Meissner\\n -Cornellis Delguercio\\n -Teodorico Dibiase\\n -Muffin Cane\\n -Dwain Tener\\n -Thatch Scherzer\\n -Abdul Stadther\\n -Udall Romani\\n -Caesar Peshek\\n -Ricky Pekara\\n -Bartholomeo Wildridge\\n -Flinn Peals\\n -Oberon Desanto\\n -Morse Chandrasekara\\n -Ingamar Rizas\\n -Julian Roeth\\n -Stanton\\n -Lesley\\n -Goose\\n -Jermain\\n -Jory\\n -Orin\\n -Gustavo\\n -Craig\\n -Noe\\n -Olag\\n -Clinten\\n -Brewster\\n -Joseph\\n -Seth\\n -Jabez Venturi\\n -Ware Labarbera\\n -Alic Smigaj\\n -Tull Rosenblatt\\n -Pierce Pagano\\n -Flipper Holscher\\n -Nickie Getler\\n -Clarence Trammer\\n -Dirk Chafin\\n -Johan Engelberg\\n -Ender Vasko\\n -Clifton Therrell\\n -Guy Pulling\\n -Rusty Espeland\\n -Ez Bischoff\\n -Joshua Devazier\\n -Burnaby Nahari\\n -Tulley Daleus\\n -Lee Gonzolez\\n -Josiah Brunderman\\n -Tiler Mohinani\\n -Tuckie Symanski\\n -Derrin Darbro\\n -Heinrich Kandt\\n -Derick Zentner\\n -Antonio Schember\\n -Willmott Cartland\\n -Ravil Hurtt\\n -Elihu Belli\\n -Baily Monday\\n -Theodoric Ginyard\\n -Tye Janowiec\\n -Reese Nabity\\n -Northrup Healey\\n -Vince Strakbein\\n -Marcellus Fredieu\\n -Logan Leibenstein\\n -Salim Yontz\\n -Wyatan Milich\\n -Josh Foddrill\\n -Reed Fresh\\n -Hillel Schowalter\\n -Toby Rosenheim\\n -Emmett Hatton\\n -Giovanni Treffert\\n -Alfonse Uribe\\n -Shaughn Plath\\n -Oliver Laneaux\\n -Vasily Hagwell\\n -Dean Ellington\\n -Teador Carp\\n -Tammy Chalet\\n -Maynard Crosley\\n -Cammy Almiron\\n -Sergeant Laperriere\\n -Jan Harrold\\n -Mel Bew\\n -Chas Purfeerst\\n -Bartel Lapinta\\n -Renaud Threet\\n -Udale Dismang\\n -Hunter Demmert\\n -Marlo Furna\\n -Pail Lavergne\\n -Putnam Steger\\n -Upton Mundorf\\n -Davidde Parden\\n -Wright Nonu\\n -Bryn Calleros\\n -Patrik Keener\\n -Temple Noury\\n -Renado Contrenas\\n -Fredrick Chantler\\n -Dwight Kalenkoski\\n -Waine Beliles\\n -Barbabas Corder\\n -Tiebout Rixie\""
      ]
     },
     "execution_count": 17,
     "metadata": {},
     "output_type": "execute_result"
    }
   ],
   "source": [
    "body  =  body+cus_text\n",
    "body"
   ]
  },
  {
   "cell_type": "code",
   "execution_count": 18,
   "metadata": {},
   "outputs": [],
   "source": [
    "def send_email(email_recipients, email_subject, email_body):\n",
    "    message =  MIMEMultipart()\n",
    "    message['From'] = config['GMAIL']['sender']\n",
    "    message['To'] =  email_recipients\n",
    "    message['Subject'] = email_subject\n",
    "\n",
    "    message.attach(MIMEText(email_body,'plain'))\n",
    "\n",
    "    with smtplib.SMTP(config['GMAIL']['server'], config['GMAIL']['port']) as mail_server:\n",
    "        mail_server.starttls()  # starts the connection \n",
    "        mail_server.login(config['GMAIL']['sender'],config['GMAIL']['password'])\n",
    "        mail_server.send_message(message)\n",
    "    print('Sent')"
   ]
  },
  {
   "cell_type": "code",
   "execution_count": 19,
   "metadata": {},
   "outputs": [
    {
     "name": "stdout",
     "output_type": "stream",
     "text": [
      "Sent\n"
     ]
    }
   ],
   "source": [
    "send_email('operationalanalytics2@gmail.com','List of customers',body)"
   ]
  },
  {
   "cell_type": "code",
   "execution_count": null,
   "metadata": {},
   "outputs": [],
   "source": []
  },
  {
   "cell_type": "code",
   "execution_count": 20,
   "metadata": {},
   "outputs": [],
   "source": [
    "cus_list_html = ''.join([f\"<li>{name}</li>\" for name in cus_list])"
   ]
  },
  {
   "cell_type": "code",
   "execution_count": 21,
   "metadata": {},
   "outputs": [],
   "source": [
    "# Create the email body with the HTML content\n",
    "body = f\"\"\"\n",
    "<!DOCTYPE html>\n",
    "<html>\n",
    "<head>\n",
    "  <style>\n",
    "    body {{\n",
    "      font-family: Arial, sans-serif;\n",
    "      line-height: 1.6;\n",
    "      color: #333;\n",
    "    }}\n",
    "    .container {{\n",
    "      width: 80%;\n",
    "      margin: auto;\n",
    "      padding: 20px;\n",
    "      border: 1px solid #ccc;\n",
    "      border-radius: 10px;\n",
    "      background-color: #f9f9f9;\n",
    "    }}\n",
    "    h1 {{\n",
    "      font-size: 18px;\n",
    "      color: #4a90e2;\n",
    "    }}\n",
    "    ul {{\n",
    "      list-style-type: none;\n",
    "      padding: 0;\n",
    "    }}\n",
    "    li {{\n",
    "      margin: 5px 0;\n",
    "      padding: 8px;\n",
    "      border-bottom: 1px solid #eee;\n",
    "    }}\n",
    "  </style>\n",
    "</head>\n",
    "<body>\n",
    "  <div class=\"container\">\n",
    "    <h1>Dear Fabian,</h1>\n",
    "    <p>I'm Brianna Balam, please check the information below:</p>\n",
    "    <ul>\n",
    "      {cus_list_html}\n",
    "    </ul>\n",
    "  </div>\n",
    "</body>\n",
    "</html>\n",
    "\"\"\""
   ]
  },
  {
   "cell_type": "code",
   "execution_count": 22,
   "metadata": {},
   "outputs": [],
   "source": [
    "# Send email using the HTML body\n",
    "def send_email(email_recipients, email_subject, email_body):\n",
    "    config = configparser.ConfigParser()\n",
    "    config.read('config.ini')\n",
    "    \n",
    "    message = MIMEMultipart()\n",
    "    message['From'] = config['GMAIL']['sender']\n",
    "    message['To'] = email_recipients\n",
    "    message['Subject'] = email_subject\n",
    "\n",
    "    # Attach the HTML body\n",
    "    message.attach(MIMEText(email_body, 'html'))\n",
    "\n",
    "    with smtplib.SMTP(config['GMAIL']['server'], config['GMAIL']['port']) as mail_server:\n",
    "        mail_server.starttls()  # starts the connection \n",
    "        mail_server.login(config['GMAIL']['sender'], config['GMAIL']['password'])\n",
    "        mail_server.send_message(message)\n",
    "    print('Sent')\n"
   ]
  },
  {
   "cell_type": "code",
   "execution_count": 23,
   "metadata": {},
   "outputs": [
    {
     "name": "stdout",
     "output_type": "stream",
     "text": [
      "Sent\n"
     ]
    }
   ],
   "source": [
    "# Example usage\n",
    "send_email('df.rueda140@gmail.com', 'List of customers', body)"
   ]
  },
  {
   "cell_type": "code",
   "execution_count": null,
   "metadata": {},
   "outputs": [],
   "source": []
  },
  {
   "cell_type": "code",
   "execution_count": 3,
   "metadata": {},
   "outputs": [
    {
     "name": "stderr",
     "output_type": "stream",
     "text": [
      "c:\\Users\\brian\\OneDrive\\Documentos\\Brianna\\St Lawrence College\\4 semester\\operational analytics\\DataBaseConnector\\dbconnector.py:143: UserWarning: pandas only supports SQLAlchemy connectable (engine/connection) or database string URI or sqlite3 DBAPI2 connection. Other DBAPI2 objects are not tested. Please consider using SQLAlchemy.\n",
      "  df_result = pd.read_sql_query(sql=sqlquery, con=conn, params=sqlparams)\n"
     ]
    },
    {
     "name": "stdout",
     "output_type": "stream",
     "text": [
      "Email sent to operationalanalytics2@gmail.com\n"
     ]
    }
   ],
   "source": [
    "import pandas as pd\n",
    "import smtplib\n",
    "from email.mime.text import MIMEText\n",
    "from email.mime.multipart import MIMEMultipart\n",
    "import configparser\n",
    "from DataBaseConnector.dbconnector import DataBaseConnector\n",
    "\n",
    "# Step 1: Connect to the database and fetch customer data\n",
    "conn = DataBaseConnector('ODOO')\n",
    "\n",
    "# SQL query to get customer names and emails\n",
    "sql = '''\n",
    "    SELECT name, email_normalized\n",
    "    FROM res_partner\n",
    "    WHERE email_normalized IS NOT NULL AND email_normalized != ''\n",
    "'''\n",
    "# Get the dataframe from the database\n",
    "customer_df = conn.get_dataframe_from_postgres(sqlquery=sql, sqlparams=None)\n",
    "\n",
    "# Step 2: Load email configuration from the config.ini file\n",
    "config = configparser.ConfigParser()\n",
    "config.read('config.ini')\n",
    "\n",
    "# Step 3: Function to create the HTML body for the email\n",
    "def create_email_body(customer_df):\n",
    "    # Creating the table HTML for the list of customers\n",
    "    table_rows = \"\"\n",
    "    for _, row in customer_df.iterrows():\n",
    "        table_rows += f\"<tr><td>{row['name']}</td><td>{row['email_normalized']}</td></tr>\"\n",
    "\n",
    "    # Full HTML email template with improved visualization\n",
    "    return f\"\"\"\n",
    "    <!DOCTYPE html>\n",
    "    <html>\n",
    "    <head>\n",
    "      <style>\n",
    "        body {{\n",
    "          font-family: 'Segoe UI', Tahoma, Geneva, Verdana, sans-serif;\n",
    "          line-height: 1.6;\n",
    "          color: #333;\n",
    "          background-color: #f4f6f8;\n",
    "        }}\n",
    "        .container {{\n",
    "          width: 80%;\n",
    "          margin: auto;\n",
    "          padding: 30px;\n",
    "          border-radius: 15px;\n",
    "          background: linear-gradient(145deg, #ffffff, #e6e6e6);\n",
    "          box-shadow: 0 8px 20px rgba(0, 0, 0, 0.1);\n",
    "        }}\n",
    "        h1 {{\n",
    "          font-size: 30px;\n",
    "          color: #800080;\n",
    "          text-align: center;\n",
    "          margin-bottom: 10px;\n",
    "          text-shadow: 1px 1px 2px #e6e6e6;\n",
    "        }}\n",
    "        h2 {{\n",
    "          font-size: 22px;\n",
    "          color: #800080;\n",
    "          text-align: center;\n",
    "          margin-bottom: 25px;\n",
    "          text-shadow: 1px 1px 2px #e6e6e6;\n",
    "        }}\n",
    "        p {{\n",
    "          font-size: 17px;\n",
    "          text-align: center;\n",
    "          color: #5c005c;\n",
    "        }}\n",
    "        .table-container {{\n",
    "          overflow-x: auto;\n",
    "          margin-top: 40px;\n",
    "        }}\n",
    "        table {{\n",
    "          width: 100%;\n",
    "          border-collapse: collapse;\n",
    "          margin-top: 20px;\n",
    "          box-shadow: 0 4px 10px rgba(0, 0, 0, 0.1);\n",
    "        }}\n",
    "        th, td {{\n",
    "          border: 1px solid #ddd;\n",
    "          padding: 15px;\n",
    "          text-align: left;\n",
    "        }}\n",
    "        th {{\n",
    "          background-color: #800080;\n",
    "          color: white;\n",
    "          font-weight: bold;\n",
    "          text-transform: uppercase;\n",
    "        }}\n",
    "        tr:nth-child(even) {{\n",
    "          background-color: #f2f2f2;\n",
    "        }}\n",
    "        tr:hover {{\n",
    "          background-color: #e6d6ff;\n",
    "        }}\n",
    "        .footer {{\n",
    "          text-align: center;\n",
    "          font-size: 15px;\n",
    "          color: #5c005c;\n",
    "          margin-top: 50px;\n",
    "        }}\n",
    "        .button-container {{\n",
    "          text-align: center;\n",
    "          margin-top: 30px;\n",
    "        }}\n",
    "        .button {{\n",
    "          background-color: #800080;\n",
    "          color: white;\n",
    "          padding: 10px 20px;\n",
    "          text-decoration: none;\n",
    "          font-size: 16px;\n",
    "          border-radius: 8px;\n",
    "          box-shadow: 0 4px 8px rgba(0, 0, 0, 0.1);\n",
    "          transition: background-color 0.3s, box-shadow 0.3s;\n",
    "        }}\n",
    "        .button:hover {{\n",
    "          background-color: #5c005c;\n",
    "          box-shadow: 0 6px 12px rgba(0, 0, 0, 0.2);\n",
    "        }}\n",
    "      </style>\n",
    "    </head>\n",
    "    <body>\n",
    "      <div class=\"container\">\n",
    "        <h1>Users with Uncomplete Data</h1>\n",
    "        <h2>Daily Histogram Report – October 25, 2024</h2>\n",
    "        <p>Hello Fabian,</p>\n",
    "        <p>We are Brianna Balam and Goutham Menon, below is the histogram for today’s ball joint analysis. Please review the data and provide feedback if necessary =) </p>\n",
    "        <div class=\"table-container\">\n",
    "          <table>\n",
    "            <thead>\n",
    "              <tr>\n",
    "                <th>Name</th>\n",
    "                <th>Email</th>\n",
    "              </tr>\n",
    "            </thead>\n",
    "            <tbody>\n",
    "              {table_rows}\n",
    "            </tbody>\n",
    "          </table>\n",
    "        </div>\n",
    "        <div class=\"button-container\">\n",
    "          <a href=\"#\" class=\"button\">Provide Feedback</a>\n",
    "        </div>\n",
    "        <div class=\"footer\">\n",
    "          <p>Thank you for your time and attention.</p>\n",
    "          <p>Feel free to reach out for any clarifications.</p>\n",
    "        </div>\n",
    "      </div>\n",
    "    </body>\n",
    "    </html>\n",
    "    \"\"\"\n",
    "\n",
    "# Step 4: Function to send the email using SMTP\n",
    "def send_email(recipient_email, email_subject, email_body):\n",
    "    message = MIMEMultipart()\n",
    "    message['From'] = config['GMAIL']['sender']\n",
    "    message['To'] = recipient_email\n",
    "    message['Subject'] = email_subject\n",
    "\n",
    "    # Attach the HTML body\n",
    "    message.attach(MIMEText(email_body, 'html'))\n",
    "\n",
    "    # Establish the connection and send the email\n",
    "    with smtplib.SMTP(config['GMAIL']['server'], config['GMAIL']['port']) as mail_server:\n",
    "        mail_server.starttls()  # starts the connection\n",
    "        mail_server.login(config['GMAIL']['sender'], config['GMAIL']['password'])\n",
    "        mail_server.send_message(message)\n",
    "    \n",
    "    print(f'Email sent to {recipient_email}')\n",
    "\n",
    "# Step 5: Create the HTML body for the report\n",
    "email_body = create_email_body(customer_df)\n",
    "\n",
    "# Step 6: Send the email to a specific recipient (e.g., a supervisor or team member)\n",
    "recipient_email = 'operationalanalytics2@gmail.com'  # Replace with the actual email address\n",
    "send_email(recipient_email, 'Users with Uncomplete Data', email_body)\n"
   ]
  },
  {
   "cell_type": "code",
   "execution_count": null,
   "metadata": {},
   "outputs": [],
   "source": []
  }
 ],
 "metadata": {
  "kernelspec": {
   "display_name": "Python 3",
   "language": "python",
   "name": "python3"
  },
  "language_info": {
   "codemirror_mode": {
    "name": "ipython",
    "version": 3
   },
   "file_extension": ".py",
   "mimetype": "text/x-python",
   "name": "python",
   "nbconvert_exporter": "python",
   "pygments_lexer": "ipython3",
   "version": "3.11.4"
  }
 },
 "nbformat": 4,
 "nbformat_minor": 2
}
